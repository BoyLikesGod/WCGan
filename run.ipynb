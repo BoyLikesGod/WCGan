{
 "cells": [
  {
   "cell_type": "code",
   "execution_count": 21,
   "outputs": [],
   "source": [
    "import torch\n",
    "import torch.nn.functional as F"
   ],
   "metadata": {
    "collapsed": false,
    "pycharm": {
     "name": "#%%\n"
    }
   }
  },
  {
   "cell_type": "code",
   "execution_count": 22,
   "outputs": [],
   "source": [
    "a = torch.randn(32, 350, 100)\n",
    "b = torch.randn(32, 350, 100)"
   ],
   "metadata": {
    "collapsed": false,
    "pycharm": {
     "name": "#%%\n"
    }
   }
  },
  {
   "cell_type": "code",
   "execution_count": 26,
   "outputs": [
    {
     "data": {
      "text/plain": "tensor([[ 0.1209,  0.0109, -0.1487,  ..., -0.0915,  0.0144,  0.0532],\n        [-0.0186,  0.1274,  0.0586,  ...,  0.0165,  0.0213,  0.0094],\n        [ 0.0227,  0.1961, -0.0272,  ..., -0.0813,  0.0528,  0.1152],\n        ...,\n        [-0.0361, -0.0095,  0.1007,  ...,  0.0678, -0.0797, -0.0607],\n        [-0.1285, -0.1127, -0.0833,  ...,  0.0406,  0.0003, -0.1108],\n        [ 0.0199, -0.1339,  0.0618,  ...,  0.0854,  0.2396,  0.1192]])"
     },
     "execution_count": 26,
     "metadata": {},
     "output_type": "execute_result"
    }
   ],
   "source": [
    "F.cosine_similarity(a,b,dim=2)"
   ],
   "metadata": {
    "collapsed": false,
    "pycharm": {
     "name": "#%%\n"
    }
   }
  },
  {
   "cell_type": "code",
   "execution_count": null,
   "outputs": [],
   "source": [],
   "metadata": {
    "collapsed": false,
    "pycharm": {
     "name": "#%%\n"
    }
   }
  }
 ],
 "metadata": {
  "kernelspec": {
   "display_name": "Python 3",
   "language": "python",
   "name": "python3"
  },
  "language_info": {
   "codemirror_mode": {
    "name": "ipython",
    "version": 2
   },
   "file_extension": ".py",
   "mimetype": "text/x-python",
   "name": "python",
   "nbconvert_exporter": "python",
   "pygments_lexer": "ipython2",
   "version": "2.7.6"
  }
 },
 "nbformat": 4,
 "nbformat_minor": 0
}